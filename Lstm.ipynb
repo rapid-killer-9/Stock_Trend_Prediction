{
 "cells": [
  {
   "cell_type": "code",
   "execution_count": 2,
   "metadata": {},
   "outputs": [],
   "source": [
    "import numpy as np\n",
    "import pandas as pd\n",
    "import matplotlib.pyplot as plt\n",
    "import pandas_datareader as data"
   ]
  },
  {
   "cell_type": "code",
   "execution_count": 3,
   "metadata": {},
   "outputs": [
    {
     "data": {
      "text/html": [
       "<div>\n",
       "<style scoped>\n",
       "    .dataframe tbody tr th:only-of-type {\n",
       "        vertical-align: middle;\n",
       "    }\n",
       "\n",
       "    .dataframe tbody tr th {\n",
       "        vertical-align: top;\n",
       "    }\n",
       "\n",
       "    .dataframe thead th {\n",
       "        text-align: right;\n",
       "    }\n",
       "</style>\n",
       "<table border=\"1\" class=\"dataframe\">\n",
       "  <thead>\n",
       "    <tr style=\"text-align: right;\">\n",
       "      <th></th>\n",
       "      <th>High</th>\n",
       "      <th>Low</th>\n",
       "      <th>Open</th>\n",
       "      <th>Close</th>\n",
       "      <th>Volume</th>\n",
       "      <th>Adj Close</th>\n",
       "    </tr>\n",
       "    <tr>\n",
       "      <th>Date</th>\n",
       "      <th></th>\n",
       "      <th></th>\n",
       "      <th></th>\n",
       "      <th></th>\n",
       "      <th></th>\n",
       "      <th></th>\n",
       "    </tr>\n",
       "  </thead>\n",
       "  <tbody>\n",
       "    <tr>\n",
       "      <th>2010-01-04</th>\n",
       "      <td>230.000000</td>\n",
       "      <td>227.500000</td>\n",
       "      <td>227.500000</td>\n",
       "      <td>229.119995</td>\n",
       "      <td>11031470.0</td>\n",
       "      <td>199.520065</td>\n",
       "    </tr>\n",
       "    <tr>\n",
       "      <th>2010-01-05</th>\n",
       "      <td>231.000000</td>\n",
       "      <td>228.009995</td>\n",
       "      <td>230.800003</td>\n",
       "      <td>229.205002</td>\n",
       "      <td>11613740.0</td>\n",
       "      <td>199.594055</td>\n",
       "    </tr>\n",
       "    <tr>\n",
       "      <th>2010-01-06</th>\n",
       "      <td>231.500000</td>\n",
       "      <td>228.500000</td>\n",
       "      <td>229.699997</td>\n",
       "      <td>230.580002</td>\n",
       "      <td>14527930.0</td>\n",
       "      <td>200.791428</td>\n",
       "    </tr>\n",
       "    <tr>\n",
       "      <th>2010-01-07</th>\n",
       "      <td>231.000000</td>\n",
       "      <td>228.110001</td>\n",
       "      <td>230.600006</td>\n",
       "      <td>229.289993</td>\n",
       "      <td>8576510.0</td>\n",
       "      <td>199.668076</td>\n",
       "    </tr>\n",
       "    <tr>\n",
       "      <th>2010-01-08</th>\n",
       "      <td>230.389999</td>\n",
       "      <td>228.009995</td>\n",
       "      <td>229.399994</td>\n",
       "      <td>228.604996</td>\n",
       "      <td>10453820.0</td>\n",
       "      <td>199.071594</td>\n",
       "    </tr>\n",
       "  </tbody>\n",
       "</table>\n",
       "</div>"
      ],
      "text/plain": [
       "                  High         Low        Open       Close      Volume  \\\n",
       "Date                                                                     \n",
       "2010-01-04  230.000000  227.500000  227.500000  229.119995  11031470.0   \n",
       "2010-01-05  231.000000  228.009995  230.800003  229.205002  11613740.0   \n",
       "2010-01-06  231.500000  228.500000  229.699997  230.580002  14527930.0   \n",
       "2010-01-07  231.000000  228.110001  230.600006  229.289993   8576510.0   \n",
       "2010-01-08  230.389999  228.009995  229.399994  228.604996  10453820.0   \n",
       "\n",
       "             Adj Close  \n",
       "Date                    \n",
       "2010-01-04  199.520065  \n",
       "2010-01-05  199.594055  \n",
       "2010-01-06  200.791428  \n",
       "2010-01-07  199.668076  \n",
       "2010-01-08  199.071594  "
      ]
     },
     "execution_count": 3,
     "metadata": {},
     "output_type": "execute_result"
    }
   ],
   "source": [
    "start = '2010-01-01'\n",
    "end = '2022-08-26'\n",
    "\n",
    "df = data.DataReader('SBIN.NS','yahoo',start ,end)\n",
    "df.head()"
   ]
  },
  {
   "cell_type": "code",
   "execution_count": 4,
   "metadata": {},
   "outputs": [
    {
     "data": {
      "text/html": [
       "<div>\n",
       "<style scoped>\n",
       "    .dataframe tbody tr th:only-of-type {\n",
       "        vertical-align: middle;\n",
       "    }\n",
       "\n",
       "    .dataframe tbody tr th {\n",
       "        vertical-align: top;\n",
       "    }\n",
       "\n",
       "    .dataframe thead th {\n",
       "        text-align: right;\n",
       "    }\n",
       "</style>\n",
       "<table border=\"1\" class=\"dataframe\">\n",
       "  <thead>\n",
       "    <tr style=\"text-align: right;\">\n",
       "      <th></th>\n",
       "      <th>Date</th>\n",
       "      <th>High</th>\n",
       "      <th>Low</th>\n",
       "      <th>Open</th>\n",
       "      <th>Close</th>\n",
       "      <th>Volume</th>\n",
       "      <th>Adj Close</th>\n",
       "    </tr>\n",
       "  </thead>\n",
       "  <tbody>\n",
       "    <tr>\n",
       "      <th>0</th>\n",
       "      <td>2010-01-04</td>\n",
       "      <td>230.000000</td>\n",
       "      <td>227.500000</td>\n",
       "      <td>227.500000</td>\n",
       "      <td>229.119995</td>\n",
       "      <td>11031470.0</td>\n",
       "      <td>199.520065</td>\n",
       "    </tr>\n",
       "    <tr>\n",
       "      <th>1</th>\n",
       "      <td>2010-01-05</td>\n",
       "      <td>231.000000</td>\n",
       "      <td>228.009995</td>\n",
       "      <td>230.800003</td>\n",
       "      <td>229.205002</td>\n",
       "      <td>11613740.0</td>\n",
       "      <td>199.594055</td>\n",
       "    </tr>\n",
       "    <tr>\n",
       "      <th>2</th>\n",
       "      <td>2010-01-06</td>\n",
       "      <td>231.500000</td>\n",
       "      <td>228.500000</td>\n",
       "      <td>229.699997</td>\n",
       "      <td>230.580002</td>\n",
       "      <td>14527930.0</td>\n",
       "      <td>200.791428</td>\n",
       "    </tr>\n",
       "    <tr>\n",
       "      <th>3</th>\n",
       "      <td>2010-01-07</td>\n",
       "      <td>231.000000</td>\n",
       "      <td>228.110001</td>\n",
       "      <td>230.600006</td>\n",
       "      <td>229.289993</td>\n",
       "      <td>8576510.0</td>\n",
       "      <td>199.668076</td>\n",
       "    </tr>\n",
       "    <tr>\n",
       "      <th>4</th>\n",
       "      <td>2010-01-08</td>\n",
       "      <td>230.389999</td>\n",
       "      <td>228.009995</td>\n",
       "      <td>229.399994</td>\n",
       "      <td>228.604996</td>\n",
       "      <td>10453820.0</td>\n",
       "      <td>199.071594</td>\n",
       "    </tr>\n",
       "  </tbody>\n",
       "</table>\n",
       "</div>"
      ],
      "text/plain": [
       "        Date        High         Low        Open       Close      Volume  \\\n",
       "0 2010-01-04  230.000000  227.500000  227.500000  229.119995  11031470.0   \n",
       "1 2010-01-05  231.000000  228.009995  230.800003  229.205002  11613740.0   \n",
       "2 2010-01-06  231.500000  228.500000  229.699997  230.580002  14527930.0   \n",
       "3 2010-01-07  231.000000  228.110001  230.600006  229.289993   8576510.0   \n",
       "4 2010-01-08  230.389999  228.009995  229.399994  228.604996  10453820.0   \n",
       "\n",
       "    Adj Close  \n",
       "0  199.520065  \n",
       "1  199.594055  \n",
       "2  200.791428  \n",
       "3  199.668076  \n",
       "4  199.071594  "
      ]
     },
     "execution_count": 4,
     "metadata": {},
     "output_type": "execute_result"
    }
   ],
   "source": [
    "df = df.reset_index()\n",
    "df.head()"
   ]
  },
  {
   "cell_type": "code",
   "execution_count": 5,
   "metadata": {},
   "outputs": [
    {
     "data": {
      "text/html": [
       "<div>\n",
       "<style scoped>\n",
       "    .dataframe tbody tr th:only-of-type {\n",
       "        vertical-align: middle;\n",
       "    }\n",
       "\n",
       "    .dataframe tbody tr th {\n",
       "        vertical-align: top;\n",
       "    }\n",
       "\n",
       "    .dataframe thead th {\n",
       "        text-align: right;\n",
       "    }\n",
       "</style>\n",
       "<table border=\"1\" class=\"dataframe\">\n",
       "  <thead>\n",
       "    <tr style=\"text-align: right;\">\n",
       "      <th></th>\n",
       "      <th>High</th>\n",
       "      <th>Low</th>\n",
       "      <th>Open</th>\n",
       "      <th>Close</th>\n",
       "      <th>Volume</th>\n",
       "    </tr>\n",
       "  </thead>\n",
       "  <tbody>\n",
       "    <tr>\n",
       "      <th>0</th>\n",
       "      <td>230.000000</td>\n",
       "      <td>227.500000</td>\n",
       "      <td>227.500000</td>\n",
       "      <td>229.119995</td>\n",
       "      <td>11031470.0</td>\n",
       "    </tr>\n",
       "    <tr>\n",
       "      <th>1</th>\n",
       "      <td>231.000000</td>\n",
       "      <td>228.009995</td>\n",
       "      <td>230.800003</td>\n",
       "      <td>229.205002</td>\n",
       "      <td>11613740.0</td>\n",
       "    </tr>\n",
       "    <tr>\n",
       "      <th>2</th>\n",
       "      <td>231.500000</td>\n",
       "      <td>228.500000</td>\n",
       "      <td>229.699997</td>\n",
       "      <td>230.580002</td>\n",
       "      <td>14527930.0</td>\n",
       "    </tr>\n",
       "    <tr>\n",
       "      <th>3</th>\n",
       "      <td>231.000000</td>\n",
       "      <td>228.110001</td>\n",
       "      <td>230.600006</td>\n",
       "      <td>229.289993</td>\n",
       "      <td>8576510.0</td>\n",
       "    </tr>\n",
       "    <tr>\n",
       "      <th>4</th>\n",
       "      <td>230.389999</td>\n",
       "      <td>228.009995</td>\n",
       "      <td>229.399994</td>\n",
       "      <td>228.604996</td>\n",
       "      <td>10453820.0</td>\n",
       "    </tr>\n",
       "  </tbody>\n",
       "</table>\n",
       "</div>"
      ],
      "text/plain": [
       "         High         Low        Open       Close      Volume\n",
       "0  230.000000  227.500000  227.500000  229.119995  11031470.0\n",
       "1  231.000000  228.009995  230.800003  229.205002  11613740.0\n",
       "2  231.500000  228.500000  229.699997  230.580002  14527930.0\n",
       "3  231.000000  228.110001  230.600006  229.289993   8576510.0\n",
       "4  230.389999  228.009995  229.399994  228.604996  10453820.0"
      ]
     },
     "execution_count": 5,
     "metadata": {},
     "output_type": "execute_result"
    }
   ],
   "source": [
    "df= df .drop (['Date','Adj Close'],axis=1)\n",
    "df.head()"
   ]
  },
  {
   "cell_type": "code",
   "execution_count": 6,
   "metadata": {},
   "outputs": [
    {
     "data": {
      "text/plain": [
       "[<matplotlib.lines.Line2D at 0x197731ad1b0>]"
      ]
     },
     "execution_count": 6,
     "metadata": {},
     "output_type": "execute_result"
    },
    {
     "data": {
      "image/png": "[encoded data removed]",
      "text/plain": [
       "<Figure size 640x480 with 1 Axes>"
      ]
     },
     "metadata": {},
     "output_type": "display_data"
    }
   ],
   "source": [
    "plt.plot(df.Close)"
   ]
  },
  {
   "cell_type": "code",
   "execution_count": null,
   "metadata": {},
   "outputs": [],
   "source": []
  }
 ],
 "metadata": {
  "kernelspec": {
   "display_name": "Python 3.10.6 64-bit",
   "language": "python",
   "name": "python3"
  },
  "language_info": {
   "codemirror_mode": {
    "name": "ipython",
    "version": 3
   },
   "file_extension": ".py",
   "mimetype": "text/x-python",
   "name": "python",
   "nbconvert_exporter": "python",
   "pygments_lexer": "ipython3",
   "version": "3.10.6"
  },
  "orig_nbformat": 4,
  "vscode": {
   "interpreter": {
    "hash": "34606d5b0674d1ecf37ae0942e0339c9c351e414368f881cab2da2dde4b0ce2b"
   }
  }
 },
 "nbformat": 4,
 "nbformat_minor": 2
}
